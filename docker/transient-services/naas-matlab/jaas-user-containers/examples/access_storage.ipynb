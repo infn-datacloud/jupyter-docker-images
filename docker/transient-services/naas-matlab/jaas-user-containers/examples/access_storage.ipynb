{
 "cells": [
  {
   "cell_type": "code",
   "execution_count": null,
   "id": "afdb6ac5",
   "metadata": {},
   "outputs": [],
   "source": [
    "from boto3sts import credentials as creds\n",
    "import boto3\n",
    "import os"
   ]
  },
  {
   "cell_type": "code",
   "execution_count": null,
   "id": "3146630d",
   "metadata": {},
   "outputs": [],
   "source": [
    "# oidc agent profile already configured in this server \n",
    "!oidc-gen -l"
   ]
  },
  {
   "cell_type": "code",
   "execution_count": null,
   "id": "c68e5b65",
   "metadata": {},
   "outputs": [],
   "source": [
    "# oidc-agent environment variables\n",
    "!oidc-keychain"
   ]
  },
  {
   "cell_type": "code",
   "execution_count": null,
   "id": "a6ad0cec",
   "metadata": {},
   "outputs": [],
   "source": [
    "os.environ['OIDC_SOCK']=\"/tmp/oidc-agent-service/0/oidc-agent.sock\""
   ]
  },
  {
   "cell_type": "code",
   "execution_count": null,
   "id": "445391ac",
   "metadata": {},
   "outputs": [],
   "source": [
    "# to access and manage object storage buckets anbnd files a token with audience \"object\" is required \n",
    "# AUD_TOKEN\n",
    "!oidc-token --aud=object infncloud"
   ]
  },
  {
   "cell_type": "code",
   "execution_count": null,
   "id": "3be148a0",
   "metadata": {},
   "outputs": [],
   "source": [
    "os.environ['AUD_TOKEN']=\"CHANGE AUD_TOKEN\""
   ]
  },
  {
   "cell_type": "code",
   "execution_count": null,
   "id": "ae7519e2",
   "metadata": {},
   "outputs": [],
   "source": [
    "!env | grep AUD_TOKEN"
   ]
  },
  {
   "cell_type": "code",
   "execution_count": null,
   "id": "86dcc140",
   "metadata": {},
   "outputs": [],
   "source": [
    "## link where to check the token content https://jwt.io/"
   ]
  },
  {
   "cell_type": "code",
   "execution_count": null,
   "id": "f54a8f9d",
   "metadata": {},
   "outputs": [],
   "source": [
    "# Get the ACCESS_KEY, SECRET_KEY and SESSION_TOKEN\n",
    "sts_client = boto3.client('sts',\n",
    "    endpoint_url=\"https://rgw.cloud.infn.it\",\n",
    "    region_name=''\n",
    "    )"
   ]
  },
  {
   "cell_type": "code",
   "execution_count": null,
   "id": "d1f1d055",
   "metadata": {},
   "outputs": [],
   "source": [
    "response = sts_client.assume_role_with_web_identity(\n",
    "    RoleArn=\"arn:aws:iam:::role/IAMaccess\",\n",
    "    RoleSessionName=\"CHANGE_NAME\",                 # Name you prefer\n",
    "    DurationSeconds=3600,\n",
    "    WebIdentityToken=os.getenv('AUD_TOKEN'))"
   ]
  },
  {
   "cell_type": "code",
   "execution_count": null,
   "id": "aeec1e8f",
   "metadata": {},
   "outputs": [],
   "source": [
    "# print(response)"
   ]
  },
  {
   "cell_type": "code",
   "execution_count": null,
   "id": "4c3ef3f7",
   "metadata": {},
   "outputs": [],
   "source": [
    "print (\"ACCESS_KEY:\",response['Credentials']['AccessKeyId'])\n",
    "print (\"SECRET_KEY:\", response['Credentials']['SecretAccessKey'])\n",
    "print (\"SESSION_TOKEN:\", response['Credentials']['SessionToken'])"
   ]
  },
  {
   "cell_type": "code",
   "execution_count": null,
   "id": "1e264800",
   "metadata": {},
   "outputs": [],
   "source": [
    "s3client = boto3.client('s3',\n",
    "    aws_access_key_id = response['Credentials']['AccessKeyId'],\n",
    "    aws_secret_access_key = response['Credentials']['SecretAccessKey'],\n",
    "    aws_session_token = response['Credentials']['SessionToken'],\n",
    "    endpoint_url=\"https://rgw.cloud.infn.it\",\n",
    "    region_name='default')"
   ]
  },
  {
   "cell_type": "code",
   "execution_count": null,
   "id": "7c325ae9",
   "metadata": {},
   "outputs": [],
   "source": [
    "# Show files in a bucket\n",
    "\n",
    "for key in s3client.list_objects(Bucket='scratch')['Contents']:\n",
    "        print(key['Key'])"
   ]
  },
  {
   "cell_type": "code",
   "execution_count": null,
   "id": "52cb2172",
   "metadata": {},
   "outputs": [],
   "source": [
    "# Attributes of s3 object\n",
    "print(dir(s3client))"
   ]
  },
  {
   "cell_type": "code",
   "execution_count": null,
   "id": "b75b89c0",
   "metadata": {},
   "outputs": [],
   "source": [
    "# The current directory\n",
    "os.getcwd()"
   ]
  },
  {
   "cell_type": "code",
   "execution_count": null,
   "id": "5a0519f9",
   "metadata": {},
   "outputs": [],
   "source": [
    "# To upload a file to RGW bucket\n",
    "s3client.upload_file('LOCAL_PATH_OF_FILE', 'BUCKET', 'PATH_WHERE_TO_UPLOAD')"
   ]
  },
  {
   "cell_type": "code",
   "execution_count": null,
   "id": "60a74e58",
   "metadata": {},
   "outputs": [],
   "source": [
    "# Download a file from RGW to the current workarea specifying your bucket name\n",
    "s3client.download_file('BUCKET','PATH_FILE_TO_DOWNLOAD', 'PATH_WHERE_TO_DOWNLOAD')"
   ]
  },
  {
   "cell_type": "code",
   "execution_count": null,
   "id": "533c892f",
   "metadata": {},
   "outputs": [],
   "source": [
    "# Content of the workarea\n",
    "for entry in os.scandir():\n",
    "    print(entry)"
   ]
  },
  {
   "cell_type": "code",
   "execution_count": null,
   "id": "31800a47",
   "metadata": {},
   "outputs": [],
   "source": [
    "for entry in os.scandir('/workarea'):\n",
    "    print(entry)"
   ]
  }
 ],
 "metadata": {
  "kernelspec": {
   "display_name": "Python 3 (ipykernel)",
   "language": "python",
   "name": "python3"
  },
  "language_info": {
   "codemirror_mode": {
    "name": "ipython",
    "version": 3
   },
   "file_extension": ".py",
   "mimetype": "text/x-python",
   "name": "python",
   "nbconvert_exporter": "python",
   "pygments_lexer": "ipython3",
   "version": "3.8.10"
  }
 },
 "nbformat": 4,
 "nbformat_minor": 5
}
